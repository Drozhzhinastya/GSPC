{
  "nbformat": 4,
  "nbformat_minor": 0,
  "metadata": {
    "colab": {
      "name": "udpipe_lemmas_vozneseniye.ipynb",
      "provenance": []
    },
    "kernelspec": {
      "name": "python3",
      "display_name": "Python 3"
    },
    "language_info": {
      "name": "python"
    }
  },
  "cells": [
    {
      "cell_type": "markdown",
      "source": [
        "# Лемматизация с udpipe"
      ],
      "metadata": {
        "id": "GjWjsZKwDuT0"
      }
    },
    {
      "cell_type": "markdown",
      "source": [
        "## 1. Считаем файл"
      ],
      "metadata": {
        "id": "JcDqEj-xD96E"
      }
    },
    {
      "cell_type": "code",
      "execution_count": null,
      "metadata": {
        "id": "qBGzMdMODpYP"
      },
      "outputs": [],
      "source": [
        "filename = 'grc.txt' #файл без диакритики\n",
        "#filename = 'csl.txt' #файл с диакритикой\n",
        "\n",
        "## выгрузим текст из файла\n",
        "with open(filename) as open_file:\n",
        "    text_as_lines = open_file.readlines()"
      ]
    },
    {
      "cell_type": "code",
      "source": [
        "import requests"
      ],
      "metadata": {
        "id": "9_4qN-ScD5K-"
      },
      "execution_count": null,
      "outputs": []
    },
    {
      "cell_type": "markdown",
      "source": [
        "## 2. Подгрузим модели"
      ],
      "metadata": {
        "id": "zOh97H_3EAe3"
      }
    },
    {
      "cell_type": "code",
      "source": [
        "response = requests.get(\"http://lindat.mff.cuni.cz/services/udpipe/api/models\")\n",
        "info = response.json()\n",
        "info"
      ],
      "metadata": {
        "id": "_uW63PJ7ECvZ"
      },
      "execution_count": null,
      "outputs": []
    },
    {
      "cell_type": "code",
      "source": [
        "for key, data in info[\"models\"].items():\n",
        "    #if \"russian\" in key:\n",
        "    if \"greek\" in key:\n",
        "        print(key, data)\n",
        "\n",
        "#моедли для русского:\n",
        "#old_russian-torot-ud-2.6-200830 ['tokenizer', 'tagger', 'parser']\n",
        "#old_russian-rnc-ud-2.6-200830 ['tokenizer', 'tagger', 'parser'] - довольно низкое качество?\n",
        "\n",
        "#следующие три модели по качеству очень схожи, но кажется taiga чуть лучше \n",
        "#russian-syntagrus-ud-2.6-200830 ['tokenizer', 'tagger', 'parser']\n",
        "#russian-gsd-ud-2.6-200830 ['tokenizer', 'tagger', 'parser']\n",
        "#russian-taiga-ud-2.6-200830 ['tokenizer', 'tagger', 'parser']\n",
        "\n",
        "\n",
        "#модели для греческого:\n",
        "#ancient_greek-perseus-ud-2.6-200830 ['tokenizer', 'tagger', 'parser']\n",
        "#ancient_greek-proiel-ud-2.6-200830 ['tokenizer', 'tagger', 'parser'] \n",
        "#greek-gdt-ud-2.6-200830 ['tokenizer', 'tagger', 'parser']"
      ],
      "metadata": {
        "id": "Bd1rKv9IEJXi"
      },
      "execution_count": null,
      "outputs": []
    },
    {
      "cell_type": "code",
      "source": [
        "params = {\"tokenizer\": \"\", \"tagger\": \"\", \"parser\": \"\", \"model\": \"greek-gdt-ud-2.6-200830\"}"
      ],
      "metadata": {
        "id": "8IvJ711RELme"
      },
      "execution_count": null,
      "outputs": []
    },
    {
      "cell_type": "markdown",
      "source": [
        "## 3. Применяем модель к тексту и записываем результаты работы парсера в файл"
      ],
      "metadata": {
        "id": "In3rA2glEQEF"
      }
    },
    {
      "cell_type": "code",
      "source": [
        "i = 0\n",
        "for line in tqdm(text_as_lines):\n",
        "    params[\"data\"] = line\n",
        "    response = requests.get(\"http://lindat.mff.cuni.cz/services/udpipe/api/process\", params)\n",
        "    json_response = response.json()\n",
        "    parse = json_response[\"result\"]\n",
        "    if i == 0:\n",
        "        with open('greek_gtd_ud.txt', 'w') as my_file:\n",
        "            my_file.write(parse)\n",
        "    else:\n",
        "        with open('greek_gtd_ud.txt', 'a') as my_file:\n",
        "            my_file.write(parse)\n",
        "    i += 1"
      ],
      "metadata": {
        "id": "5otvH1cNENZw"
      },
      "execution_count": null,
      "outputs": []
    },
    {
      "cell_type": "markdown",
      "source": [
        "## 4. Переходим к работе с этим файлом"
      ],
      "metadata": {
        "id": "mnsSjJj3EkIP"
      }
    },
    {
      "cell_type": "code",
      "source": [
        "file_to_scretch = 'greek_gtd_ud.txt'"
      ],
      "metadata": {
        "id": "ljnvRfahEfVB"
      },
      "execution_count": null,
      "outputs": []
    },
    {
      "cell_type": "code",
      "source": [
        "with open(file_to_scretch) as open_file:\n",
        "    text_as_lines = open_file.readlines()"
      ],
      "metadata": {
        "id": "aZH0vODBEiBM"
      },
      "execution_count": null,
      "outputs": []
    },
    {
      "cell_type": "code",
      "source": [
        "text_as_lines[:10]"
      ],
      "metadata": {
        "id": "SL4ohMlhEu6Y"
      },
      "execution_count": null,
      "outputs": []
    },
    {
      "cell_type": "markdown",
      "source": [
        "#### в некоторых моделях знаки препинания не отделяются от слова - хотя чаще в ud все же они содержат собственную метаинформацию (пока что такой была только torot для csl - в таком случае итоговый файл с леммами сохранится в формате string, но его можно легко почистить)"
      ],
      "metadata": {
        "id": "aCsTGnloFvZJ"
      }
    },
    {
      "cell_type": "code",
      "source": [
        "## эту ячейку в будущем нужно заменить на регулярки\n",
        "numbers = list()\n",
        "i = 0\n",
        "for i in range(0, 100):\n",
        "    i = str(i)\n",
        "    numbers.append(i)\n",
        "    i = int(i)\n",
        "    i += 1"
      ],
      "metadata": {
        "id": "LjtWd-Z1Ew6v"
      },
      "execution_count": null,
      "outputs": []
    },
    {
      "cell_type": "markdown",
      "source": [
        "### Проверяем, что строка начинается с цифры (результат работы парсера) и если это так, добавляем ее в новый список. Этот список и будущий файл с ним содержит всю распарсенную информацию. На следующем этапе мы достанем только леммы"
      ],
      "metadata": {
        "id": "hnCon_HXE6-F"
      }
    },
    {
      "cell_type": "code",
      "source": [
        "list_lemmas_data = []\n",
        "\n",
        "for line in text_as_lines:\n",
        "    if line[0] in numbers:\n",
        "        list_lemmas_data.append(line)"
      ],
      "metadata": {
        "id": "G7XmMbirE4Wo"
      },
      "execution_count": null,
      "outputs": []
    },
    {
      "cell_type": "code",
      "source": [
        "list_lemmas_data_split = []\n",
        "\n",
        "for line in list_lemmas_data:\n",
        "    new_line = line.split('\\t')\n",
        "    list_lemmas_data_split.append(new_line)"
      ],
      "metadata": {
        "id": "Z7txMEuZFUJV"
      },
      "execution_count": null,
      "outputs": []
    },
    {
      "cell_type": "markdown",
      "source": [
        "## Теперь достанем леммы - это третий (2) элемент каждого списка list_lemmas_data_split"
      ],
      "metadata": {
        "id": "iHQLrpbNFb5I"
      }
    },
    {
      "cell_type": "code",
      "source": [
        "list_lemmas_data_split[:15]"
      ],
      "metadata": {
        "id": "L8THw-LqFgjN"
      },
      "execution_count": null,
      "outputs": []
    },
    {
      "cell_type": "code",
      "source": [
        "lemma_list_or_rnc = []\n",
        "\n",
        "for token_list in list_lemmas_data_split:\n",
        "    lemma = token_list[2]\n",
        "    lemma_list_or_rnc.append(lemma)"
      ],
      "metadata": {
        "id": "EFTlA4nbFkC_"
      },
      "execution_count": null,
      "outputs": []
    },
    {
      "cell_type": "markdown",
      "source": [
        "### Запишем результаты в файл"
      ],
      "metadata": {
        "id": "tfYRUjfAFoyT"
      }
    },
    {
      "cell_type": "code",
      "source": [
        "i = 0 \n",
        "for item in lemma_list_or_rnc:\n",
        "    if i == 0:\n",
        "        with open('lemmas_greek_gtd_ud.txt', 'w') as file:\n",
        "            if item != '.':\n",
        "                file.write(item + ' ')\n",
        "    else:\n",
        "        with open('lemmas_greek_gtd_ud.txt', 'a') as file:\n",
        "            if item != '.':\n",
        "                file.write(item + ' ')\n",
        "            else:\n",
        "                file.write('\\n')\n",
        "    i += 1"
      ],
      "metadata": {
        "id": "R3rktIl-FmOV"
      },
      "execution_count": null,
      "outputs": []
    }
  ]
}
